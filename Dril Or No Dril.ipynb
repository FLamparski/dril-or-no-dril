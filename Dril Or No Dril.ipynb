{
 "cells": [
  {
   "cell_type": "code",
   "execution_count": 12,
   "metadata": {},
   "outputs": [],
   "source": [
    "import tensorflow as tf\n",
    "from tensorflow import keras\n",
    "import numpy as np\n",
    "import matplotlib.pyplot as plt\n",
    "from sklearn.metrics import confusion_matrix\n",
    "import sqlite3\n",
    "from random import shuffle"
   ]
  },
  {
   "cell_type": "code",
   "execution_count": 17,
   "metadata": {},
   "outputs": [],
   "source": [
    "LABEL_DRIL = 0\n",
    "LABEL_NODRIL = 1\n",
    "def split_dataset(ds):\n",
    "    shuffle(ds)\n",
    "    train = ds[len(ds) // 2:]\n",
    "    test = ds[:len(ds) // 2]\n",
    "    return train, test\n",
    "\n",
    "def load_dataset():\n",
    "    with sqlite3.connect('./tweets.db') as conn:\n",
    "        cur = conn.execute('SELECT * FROM tweets WHERE user = \\'dril\\'')\n",
    "        dril_tweets = [tweet[3] for tweet in cur]\n",
    "        cur = conn.execute('SELECT * FROM tweets WHERE user != \\'dril\\'')\n",
    "        nodril_tweets = [tweet[3] for tweet in cur]\n",
    "\n",
    "        dril_train, dril_test = split_dataset(dril_tweets)\n",
    "        dril_train_lbl = [LABEL_DRIL for _ in dril_train]\n",
    "        dril_test_lbl = [LABEL_DRIL for _ in dril_test]\n",
    "        nodril_train, nodril_test = split_dataset(nodril_tweets)\n",
    "        nodril_train_lbl = [LABEL_NODRIL for _ in nodril_train]\n",
    "        nodril_test_lbl = [LABEL_NODRIL for _ in nodril_test]\n",
    "        \n",
    "        train_data = dril_train + nodril_train\n",
    "        train_lbl = dril_train_lbl + nodril_train_lbl\n",
    "        \n",
    "        test_data = dril_test + nodril_test\n",
    "        test_lbl = dril_test_lbl + nodril_test_lbl\n",
    "        \n",
    "        return (train_data, train_lbl), (test_data, test_lbl)"
   ]
  },
  {
   "cell_type": "code",
   "execution_count": 18,
   "metadata": {},
   "outputs": [],
   "source": [
    "(train_x, train_y), (test_x, test_y) = load_dataset()"
   ]
  },
  {
   "cell_type": "code",
   "execution_count": 36,
   "metadata": {},
   "outputs": [
    {
     "data": {
      "text/plain": [
       "array([102, 105, 114, 115, 116,  32, 121, 111, 117,  32, 104,  97, 118,\n",
       "       101,  32, 100, 101, 109, 111,  99, 114,  97, 116, 115,  32,  97,\n",
       "       110, 100,  32, 114, 116, 101, 112, 117,  98, 108, 105,  99,  97,\n",
       "       110, 115,  46,  32, 116, 104, 101, 121, 114, 101,  32,  98,  97,\n",
       "       115, 105,  99,  97, 108, 108, 121,  32, 116, 104, 101,  32, 115,\n",
       "        97, 109, 101,  32, 116, 104, 105, 110, 103,  46,  32, 116, 104,\n",
       "       101, 110,  32, 121, 111, 117,  32, 104,  97, 118, 101,  32, 103,\n",
       "       114, 101, 101, 110,  32, 112,  97, 114, 116, 121,  32,  97, 110,\n",
       "       100,  32, 117, 104,  44,  32, 116, 104, 101,  32, 119, 104, 105,\n",
       "       103, 115,  46,  32, 116, 104, 101, 121, 114, 101,  32, 116, 104,\n",
       "       101,  32, 115,  97, 109, 101,  32, 116, 111, 111,   0,   0,   0,\n",
       "         0,   0,   0,   0,   0,   0,   0,   0,   0,   0,   0,   0,   0,\n",
       "         0,   0,   0,   0,   0,   0,   0,   0,   0,   0,   0,   0,   0,\n",
       "         0,   0,   0,   0,   0,   0,   0,   0,   0,   0,   0,   0,   0,\n",
       "         0,   0,   0,   0,   0,   0,   0,   0,   0,   0,   0,   0,   0,\n",
       "         0,   0,   0,   0,   0,   0,   0,   0,   0,   0,   0,   0,   0,\n",
       "         0,   0,   0,   0,   0,   0,   0,   0,   0,   0,   0,   0,   0,\n",
       "         0,   0,   0,   0,   0,   0,   0,   0,   0,   0,   0,   0,   0,\n",
       "         0,   0,   0,   0,   0,   0])"
      ]
     },
     "execution_count": 36,
     "metadata": {},
     "output_type": "execute_result"
    }
   ],
   "source": [
    "np.pad(np.array([ord(c) for c in train_x[0]]), (0, 240 - len(train_x[0])), mode='constant')"
   ]
  },
  {
   "cell_type": "code",
   "execution_count": 37,
   "metadata": {},
   "outputs": [],
   "source": [
    "def to_padded_bytes(tweet):\n",
    "    bts = np.array([ord(c) for c in tweet])\n",
    "    return np.pad(bts, (0, 240 - bts.shape[0]), mode='constant')"
   ]
  },
  {
   "cell_type": "code",
   "execution_count": 41,
   "metadata": {},
   "outputs": [],
   "source": [
    "train_x = np.matrix([to_padded_bytes(x) for x in train_x])\n",
    "test_x = np.matrix([to_padded_bytes(x) for x in test_x])"
   ]
  },
  {
   "cell_type": "code",
   "execution_count": 44,
   "metadata": {},
   "outputs": [],
   "source": [
    "train_y = keras.utils.to_categorical(train_y)\n",
    "test_y = keras.utils.to_categorical(test_y)"
   ]
  },
  {
   "cell_type": "code",
   "execution_count": 45,
   "metadata": {},
   "outputs": [
    {
     "data": {
      "text/plain": [
       "(4442, 240)"
      ]
     },
     "execution_count": 45,
     "metadata": {},
     "output_type": "execute_result"
    }
   ],
   "source": [
    "train_x.shape"
   ]
  },
  {
   "cell_type": "code",
   "execution_count": 93,
   "metadata": {},
   "outputs": [],
   "source": [
    "model = keras.Sequential([\n",
    "    keras.layers.Embedding(255, 16, input_length=240),\n",
    "    keras.layers.Conv1D(140, 3, padding='valid', activation='relu', strides=1),\n",
    "    keras.layers.GlobalAveragePooling1D(),\n",
    "    keras.layers.Dense(512, activation='relu'),\n",
    "    keras.layers.Dense(2, activation='softmax')\n",
    "])"
   ]
  },
  {
   "cell_type": "code",
   "execution_count": 94,
   "metadata": {},
   "outputs": [],
   "source": [
    "model.compile(optimizer='adam',\n",
    "              loss='categorical_crossentropy',\n",
    "              metrics=['accuracy'])"
   ]
  },
  {
   "cell_type": "code",
   "execution_count": 95,
   "metadata": {},
   "outputs": [
    {
     "name": "stdout",
     "output_type": "stream",
     "text": [
      "_________________________________________________________________\n",
      "Layer (type)                 Output Shape              Param #   \n",
      "=================================================================\n",
      "embedding_12 (Embedding)     (None, 240, 16)           4080      \n",
      "_________________________________________________________________\n",
      "conv1d_7 (Conv1D)            (None, 238, 140)          6860      \n",
      "_________________________________________________________________\n",
      "global_average_pooling1d_8 ( (None, 140)               0         \n",
      "_________________________________________________________________\n",
      "dense_23 (Dense)             (None, 512)               72192     \n",
      "_________________________________________________________________\n",
      "dense_24 (Dense)             (None, 2)                 1026      \n",
      "=================================================================\n",
      "Total params: 84,158\n",
      "Trainable params: 84,158\n",
      "Non-trainable params: 0\n",
      "_________________________________________________________________\n"
     ]
    }
   ],
   "source": [
    "model.summary()"
   ]
  },
  {
   "cell_type": "code",
   "execution_count": 96,
   "metadata": {},
   "outputs": [
    {
     "name": "stdout",
     "output_type": "stream",
     "text": [
      "Train on 4442 samples, validate on 4441 samples\n",
      "Epoch 1/25\n",
      "4442/4442 [==============================] - 1s 277us/step - loss: 0.6183 - acc: 0.6686 - val_loss: 0.5372 - val_acc: 0.6701\n",
      "Epoch 2/25\n",
      "4442/4442 [==============================] - 1s 158us/step - loss: 0.4750 - acc: 0.7787 - val_loss: 0.4290 - val_acc: 0.8032\n",
      "Epoch 3/25\n",
      "4442/4442 [==============================] - 1s 158us/step - loss: 0.4087 - acc: 0.8235 - val_loss: 0.3932 - val_acc: 0.8289\n",
      "Epoch 4/25\n",
      "4442/4442 [==============================] - 1s 162us/step - loss: 0.3781 - acc: 0.8406 - val_loss: 0.3728 - val_acc: 0.8376\n",
      "Epoch 5/25\n",
      "4442/4442 [==============================] - 1s 159us/step - loss: 0.3585 - acc: 0.8474 - val_loss: 0.3688 - val_acc: 0.8331\n",
      "Epoch 6/25\n",
      "4442/4442 [==============================] - 1s 158us/step - loss: 0.3445 - acc: 0.8534 - val_loss: 0.3498 - val_acc: 0.8469\n",
      "Epoch 7/25\n",
      "4442/4442 [==============================] - 1s 158us/step - loss: 0.3339 - acc: 0.8577 - val_loss: 0.3464 - val_acc: 0.8485\n",
      "Epoch 8/25\n",
      "4442/4442 [==============================] - 1s 158us/step - loss: 0.3218 - acc: 0.8602 - val_loss: 0.3321 - val_acc: 0.8543\n",
      "Epoch 9/25\n",
      "4442/4442 [==============================] - 1s 158us/step - loss: 0.3066 - acc: 0.8703 - val_loss: 0.3210 - val_acc: 0.8626\n",
      "Epoch 10/25\n",
      "4442/4442 [==============================] - 1s 161us/step - loss: 0.3004 - acc: 0.8728 - val_loss: 0.3135 - val_acc: 0.8656\n",
      "Epoch 11/25\n",
      "4442/4442 [==============================] - 1s 158us/step - loss: 0.2875 - acc: 0.8838 - val_loss: 0.3128 - val_acc: 0.8674\n",
      "Epoch 12/25\n",
      "4442/4442 [==============================] - 1s 161us/step - loss: 0.2811 - acc: 0.8791 - val_loss: 0.3018 - val_acc: 0.8744\n",
      "Epoch 13/25\n",
      "4442/4442 [==============================] - 1s 161us/step - loss: 0.2675 - acc: 0.8859 - val_loss: 0.3074 - val_acc: 0.8653\n",
      "Epoch 14/25\n",
      "4442/4442 [==============================] - 1s 158us/step - loss: 0.2605 - acc: 0.8877 - val_loss: 0.2998 - val_acc: 0.8710\n",
      "Epoch 15/25\n",
      "4442/4442 [==============================] - 1s 162us/step - loss: 0.2537 - acc: 0.8933 - val_loss: 0.2901 - val_acc: 0.8795\n",
      "Epoch 16/25\n",
      "4442/4442 [==============================] - 1s 158us/step - loss: 0.2445 - acc: 0.9000 - val_loss: 0.2894 - val_acc: 0.8809\n",
      "Epoch 17/25\n",
      "4442/4442 [==============================] - 1s 158us/step - loss: 0.2323 - acc: 0.9036 - val_loss: 0.2892 - val_acc: 0.8789\n",
      "Epoch 18/25\n",
      "4442/4442 [==============================] - 1s 162us/step - loss: 0.2283 - acc: 0.9072 - val_loss: 0.2792 - val_acc: 0.8852\n",
      "Epoch 19/25\n",
      "4442/4442 [==============================] - 1s 159us/step - loss: 0.2200 - acc: 0.9095 - val_loss: 0.2754 - val_acc: 0.8876\n",
      "Epoch 20/25\n",
      "4442/4442 [==============================] - 1s 158us/step - loss: 0.2112 - acc: 0.9167 - val_loss: 0.2818 - val_acc: 0.8858\n",
      "Epoch 21/25\n",
      "4442/4442 [==============================] - 1s 158us/step - loss: 0.2112 - acc: 0.9160 - val_loss: 0.2695 - val_acc: 0.8883\n",
      "Epoch 22/25\n",
      "4442/4442 [==============================] - 1s 158us/step - loss: 0.2076 - acc: 0.9174 - val_loss: 0.2967 - val_acc: 0.8804\n",
      "Epoch 23/25\n",
      "4442/4442 [==============================] - 1s 162us/step - loss: 0.1964 - acc: 0.9210 - val_loss: 0.2587 - val_acc: 0.8955\n",
      "Epoch 24/25\n",
      "4442/4442 [==============================] - 1s 159us/step - loss: 0.1924 - acc: 0.9241 - val_loss: 0.2677 - val_acc: 0.8912\n",
      "Epoch 25/25\n",
      "4442/4442 [==============================] - 1s 157us/step - loss: 0.1937 - acc: 0.9219 - val_loss: 0.2671 - val_acc: 0.8930\n"
     ]
    }
   ],
   "source": [
    "history = model.fit(train_x, train_y, epochs=25, validation_data=(test_x, test_y))"
   ]
  },
  {
   "cell_type": "code",
   "execution_count": 97,
   "metadata": {},
   "outputs": [
    {
     "data": {
      "image/png": "[encoded data removed]",
      "text/plain": [
       "<Figure size 864x432 with 2 Axes>"
      ]
     },
     "metadata": {
      "needs_background": "light"
     },
     "output_type": "display_data"
    }
   ],
   "source": [
    "history_dict = history.history\n",
    "acc = history_dict['acc']\n",
    "val_acc = history_dict['val_acc']\n",
    "loss = history_dict['loss']\n",
    "val_loss = history_dict['val_loss']\n",
    "\n",
    "epochs = range(1, len(acc) + 1)\n",
    "\n",
    "f, (ax1, ax2) = plt.subplots(1, 2, figsize=(12, 6))\n",
    "\n",
    "ax1.plot(epochs, loss, 'ro', label='Training loss')\n",
    "ax1.plot(epochs, val_loss, 'r', label='Validation loss')\n",
    "ax1.set_title('Training and validation loss')\n",
    "ax1.set_xlabel('Epochs')\n",
    "ax1.set_ylabel('Loss')\n",
    "ax1.legend()\n",
    "\n",
    "ax2.plot(epochs, acc, 'bo', label='Training acc')\n",
    "ax2.plot(epochs, val_acc, 'b', label='Validation acc')\n",
    "ax2.set_title('Training and validation accuracy')\n",
    "ax2.set_xlabel('Epochs')\n",
    "ax2.set_ylabel('Accuracy')\n",
    "ax2.legend()\n",
    "\n",
    "f.show()"
   ]
  },
  {
   "cell_type": "code",
   "execution_count": 108,
   "metadata": {},
   "outputs": [
    {
     "data": {
      "text/plain": [
       "array([ 99, 111, 109, 112, 105, 108, 105, 110, 103,  32, 109,  97,  99,\n",
       "       104, 105, 110, 101,  32, 108, 101,  97, 114, 110, 105, 110, 103,\n",
       "        32, 116, 119, 101, 101, 116, 115,  32, 116, 111,  32, 103, 101,\n",
       "       116,  32, 107, 105,  99, 107, 101, 100,  32, 105, 110,  32, 116,\n",
       "       104, 101,  32,  97, 115, 115,  32,  98, 121,  32, 107, 101, 114,\n",
       "        97, 115,   0,   0,   0,   0,   0,   0,   0,   0,   0,   0,   0,\n",
       "         0,   0,   0,   0,   0,   0,   0,   0,   0,   0,   0,   0,   0,\n",
       "         0,   0,   0,   0,   0,   0,   0,   0,   0,   0,   0,   0,   0,\n",
       "         0,   0,   0,   0,   0,   0,   0,   0,   0,   0,   0,   0,   0,\n",
       "         0,   0,   0,   0,   0,   0,   0,   0,   0,   0,   0,   0,   0,\n",
       "         0,   0,   0,   0,   0,   0,   0,   0,   0,   0,   0,   0,   0,\n",
       "         0,   0,   0,   0,   0,   0,   0,   0,   0,   0,   0,   0,   0,\n",
       "         0,   0,   0,   0,   0,   0,   0,   0,   0,   0,   0,   0,   0,\n",
       "         0,   0,   0,   0,   0,   0,   0,   0,   0,   0,   0,   0,   0,\n",
       "         0,   0,   0,   0,   0,   0,   0,   0,   0,   0,   0,   0,   0,\n",
       "         0,   0,   0,   0,   0,   0,   0,   0,   0,   0,   0,   0,   0,\n",
       "         0,   0,   0,   0,   0,   0,   0,   0,   0,   0,   0,   0,   0,\n",
       "         0,   0,   0,   0,   0,   0,   0,   0,   0,   0,   0,   0,   0,\n",
       "         0,   0,   0,   0,   0,   0])"
      ]
     },
     "execution_count": 108,
     "metadata": {},
     "output_type": "execute_result"
    }
   ],
   "source": [
    "user_tweet = \"\"\"compiling machine learning tweets to get kicked in the ass by keras\"\"\"\n",
    "user_x = to_padded_bytes(user_tweet)\n",
    "user_x"
   ]
  },
  {
   "cell_type": "code",
   "execution_count": 109,
   "metadata": {},
   "outputs": [
    {
     "data": {
      "text/plain": [
       "array([[0.9883067 , 0.01169331]], dtype=float32)"
      ]
     },
     "execution_count": 109,
     "metadata": {},
     "output_type": "execute_result"
    }
   ],
   "source": [
    "model.predict(np.array([user_x]))"
   ]
  },
  {
   "cell_type": "code",
   "execution_count": 112,
   "metadata": {},
   "outputs": [],
   "source": [
    "model.save('model.h5')"
   ]
  },
  {
   "cell_type": "code",
   "execution_count": null,
   "metadata": {},
   "outputs": [],
   "source": []
  }
 ],
 "metadata": {
  "kernelspec": {
   "display_name": "Python 3",
   "language": "python",
   "name": "python3"
  },
  "language_info": {
   "codemirror_mode": {
    "name": "ipython",
    "version": 3
   },
   "file_extension": ".py",
   "mimetype": "text/x-python",
   "name": "python",
   "nbconvert_exporter": "python",
   "pygments_lexer": "ipython3",
   "version": "3.6.8"
  }
 },
 "nbformat": 4,
 "nbformat_minor": 2
}
